{
 "cells": [
  {
   "cell_type": "markdown",
   "metadata": {},
   "source": [
    "# Self-Driving Car Engineer Nanodegree\n",
    "\n",
    "## Deep Learning\n",
    "\n",
    "## Project: Build a Traffic Sign Recognition Classifier\n",
    "\n",
    "In this notebook, a template is provided for you to implement your functionality in stages, which is required to successfully complete this project. If additional code is required that cannot be included in the notebook, be sure that the Python code is successfully imported and included in your submission if necessary. \n",
    "\n",
    "> **Note**: Once you have completed all of the code implementations, you need to finalize your work by exporting the iPython Notebook as an HTML document. Before exporting the notebook to html, all of the code cells need to have been run so that reviewers can see the final implementation and output. You can then export the notebook by using the menu above and navigating to  \\n\",\n",
    "    \"**File -> Download as -> HTML (.html)**. Include the finished document along with this notebook as your submission. \n",
    "\n",
    "In addition to implementing code, there is a writeup to complete. The writeup should be completed in a separate file, which can be either a markdown file or a pdf document. There is a [write up template](https://github.com/udacity/CarND-Traffic-Sign-Classifier-Project/blob/master/writeup_template.md) that can be used to guide the writing process. Completing the code template and writeup template will cover all of the [rubric points](https://review.udacity.com/#!/rubrics/481/view) for this project.\n",
    "\n",
    "The [rubric](https://review.udacity.com/#!/rubrics/481/view) contains \"Stand Out Suggestions\" for enhancing the project beyond the minimum requirements. The stand out suggestions are optional. If you decide to pursue the \"stand out suggestions\", you can include the code in this Ipython notebook and also discuss the results in the writeup file.\n",
    "\n",
    "\n",
    ">**Note:** Code and Markdown cells can be executed using the **Shift + Enter** keyboard shortcut. In addition, Markdown cells can be edited by typically double-clicking the cell to enter edit mode."
   ]
  },
  {
   "cell_type": "markdown",
   "metadata": {},
   "source": [
    "---\n",
    "## Step 0: Load The Data"
   ]
  },
  {
   "cell_type": "code",
   "execution_count": 1,
   "metadata": {
    "collapsed": false
   },
   "outputs": [],
   "source": [
    "# Load pickled data\n",
    "import pickle\n",
    "from sklearn.model_selection import train_test_split\n",
    "import numpy as np\n",
    "import random\n",
    "# TODO: Fill this in based on where you saved the training and testing data\n",
    "\n",
    "training_file = 'train.p'\n",
    "validation_file= 'valid.p'\n",
    "testing_file = 'test.p'\n",
    "\n",
    "with open(training_file, mode='rb') as f:\n",
    "    train = pickle.load(f)\n",
    "with open(validation_file, mode='rb') as f:\n",
    "    valid = pickle.load(f)\n",
    "with open(testing_file, mode='rb') as f:\n",
    "    test = pickle.load(f)\n",
    "    \n",
    "X_train_origin, y_train_origin = train['features'], train['labels']\n",
    "\n",
    "#X_train, X_valid, y_train, y_valid = train_test_split(X_train_origin, y_train_origin, test_size=0.2, random_state=42)\n",
    "X_valid, y_valid = valid['features'], valid['labels']\n",
    "X_test, y_test = test['features'], test['labels']\n",
    "\n",
    "# stack training set and validation set\n"
   ]
  },
  {
   "cell_type": "code",
   "execution_count": 2,
   "metadata": {
    "collapsed": false
   },
   "outputs": [],
   "source": [
    "X_train_stack = np.append(X_train_origin,X_valid, axis=0)\n",
    "y_train_stack = np.append(y_train_origin,y_valid, axis=0)\n",
    "X_train, X_valid, y_train, y_valid = train_test_split(X_train_stack, y_train_stack, test_size=0.2, random_state=10)\n"
   ]
  },
  {
   "cell_type": "markdown",
   "metadata": {},
   "source": [
    "---\n",
    "\n",
    "## Step 1: Dataset Summary & Exploration\n",
    "\n",
    "The pickled data is a dictionary with 4 key/value pairs:\n",
    "\n",
    "- `'features'` is a 4D array containing raw pixel data of the traffic sign images, (num examples, width, height, channels).\n",
    "- `'labels'` is a 1D array containing the label/class id of the traffic sign. The file `signnames.csv` contains id -> name mappings for each id.\n",
    "- `'sizes'` is a list containing tuples, (width, height) representing the the original width and height the image.\n",
    "- `'coords'` is a list containing tuples, (x1, y1, x2, y2) representing coordinates of a bounding box around the sign in the image. **THESE COORDINATES ASSUME THE ORIGINAL IMAGE. THE PICKLED DATA CONTAINS RESIZED VERSIONS (32 by 32) OF THESE IMAGES**\n",
    "\n",
    "Complete the basic data summary below. Use python, numpy and/or pandas methods to calculate the data summary rather than hard coding the results. For example, the [pandas shape method](http://pandas.pydata.org/pandas-docs/stable/generated/pandas.DataFrame.shape.html) might be useful for calculating some of the summary results. "
   ]
  },
  {
   "cell_type": "markdown",
   "metadata": {},
   "source": [
    "### Provide a Basic Summary of the Data Set Using Python, Numpy and/or Pandas"
   ]
  },
  {
   "cell_type": "code",
   "execution_count": 3,
   "metadata": {
    "collapsed": false,
    "scrolled": false
   },
   "outputs": [
    {
     "name": "stdout",
     "output_type": "stream",
     "text": [
      "Number of training examples = 31367\n",
      "Number of validation examples = 7842\n",
      "Number of testing examples = 12630\n",
      "Image data shape = (32, 32, 3)\n",
      "Number of classes = 43\n"
     ]
    }
   ],
   "source": [
    "### Replace each question mark with the appropriate value. \n",
    "### Use python, pandas or numpy methods rather than hard coding the results\n",
    "\n",
    "# TODO: Number of training examples\n",
    "n_train = X_train.shape[0]\n",
    "# TODO: Number of testing examples.\n",
    "n_test = X_test.shape[0]\n",
    "\n",
    "#\n",
    "n_valid = X_valid.shape[0]\n",
    "# TODO: What's the shape of an traffic sign image?\n",
    "image_shape = X_train.shape[1:]\n",
    "\n",
    "# TODO: How many unique classes/labels there are in the dataset.\n",
    "n_classes = len(list(set(train['labels'])))\n",
    "\n",
    "print(\"Number of training examples =\", n_train)\n",
    "print(\"Number of validation examples =\", n_valid)\n",
    "print(\"Number of testing examples =\", n_test)\n",
    "print(\"Image data shape =\", image_shape)\n",
    "print(\"Number of classes =\", n_classes)"
   ]
  },
  {
   "cell_type": "code",
   "execution_count": 4,
   "metadata": {
    "collapsed": true
   },
   "outputs": [],
   "source": [
    "## Split Training data to training and validation"
   ]
  },
  {
   "cell_type": "code",
   "execution_count": null,
   "metadata": {
    "collapsed": true
   },
   "outputs": [],
   "source": [
    "    "
   ]
  },
  {
   "cell_type": "code",
   "execution_count": 5,
   "metadata": {
    "collapsed": false
   },
   "outputs": [
    {
     "name": "stdout",
     "output_type": "stream",
     "text": [
      "Counter({2: 1815, 1: 1775, 13: 1764, 38: 1680, 12: 1636, 4: 1608, 10: 1582, 5: 1478, 25: 1221, 9: 1187, 7: 1148, 8: 1115, 3: 1111, 11: 1043, 35: 982, 18: 950, 17: 897, 31: 617, 14: 616, 33: 555, 15: 492, 26: 488, 28: 441, 23: 406, 30: 360, 16: 346, 6: 331, 22: 319, 34: 319, 36: 311, 40: 293, 20: 284, 21: 258, 39: 249, 24: 215, 29: 206, 32: 192, 41: 191, 42: 187, 27: 184, 37: 175, 0: 171, 19: 169})\n",
      "class_index_range:  [(0, 170), (171, 1945), (1946, 3760), (3761, 4871), (4872, 6479), (6480, 7957), (7958, 8288), (8289, 9436), (9437, 10551), (10552, 11738), (11739, 13320), (13321, 14363), (14364, 15999), (16000, 17763), (17764, 18379), (18380, 18871), (18872, 19217), (19218, 20114), (20115, 21064), (21065, 21233), (21234, 21517), (21518, 21775), (21776, 22094), (22095, 22500), (22501, 22715), (22716, 23936), (23937, 24424), (24425, 24608), (24609, 25049), (25050, 25255), (25256, 25615), (25616, 26232), (26233, 26424), (26425, 26979), (26980, 27298), (27299, 28280), (28281, 28591), (28592, 28766), (28767, 30446), (30447, 30695), (30696, 30988), (30989, 31179), (31180, 31366)]\n"
     ]
    }
   ],
   "source": [
    "import collections\n",
    "x_test = X_train\n",
    "y_test_label = y_train\n",
    "\n",
    "tuple_list = []  \n",
    "for i in range(x_test.shape[0]):\n",
    "    tuple_list.append( (x_test[i], y_test_label[i]) )  \n",
    "sort_data = sorted(tuple_list, key=lambda x: x[1]) #list of tuple\n",
    "\n",
    "#print (sort_data[179][1]) #0 \n",
    "#print (sort_data[180][1]) #1\n",
    "#print (sort_data[180+1980-1][1]) #1\n",
    "#print (sort_data[180+1980][1]) #2\n",
    " \n",
    "    \n",
    "#a = [1,1,1,1,2,2,2,2,3,3,4,5,5]\n",
    "# print number of images for each class\n",
    "\n",
    "counter=collections.Counter(y_train)\n",
    "print(counter)\n",
    "\n",
    "# create index range \n",
    "class_index = [None] * n_classes\n",
    "for i in range(n_classes): \n",
    "    if i == 0:        \n",
    "        class_index[i] = (0 , counter[i]-1)\n",
    "    else:\n",
    "        class_index[i] = (class_index[i-1][1]+1 ,class_index[i-1][1]+counter[i])\n",
    "\n",
    "print ('class_index_range: ', class_index)\n",
    "# sort class according to their labels\n",
    "# check if range okay\n",
    "#for i in range(len(class_index)):\n",
    "#    print ( sort_data [class_index[i][0]] [1], sort_data[class_index[i][1]][1] )\n"
   ]
  },
  {
   "cell_type": "markdown",
   "metadata": {},
   "source": [
    "### Include an exploratory visualization of the dataset"
   ]
  },
  {
   "cell_type": "markdown",
   "metadata": {},
   "source": [
    "Visualize the German Traffic Signs Dataset using the pickled file(s). This is open ended, suggestions include: plotting traffic sign images, plotting the count of each sign, etc.\n",
    "\n",
    "The [Matplotlib](http://matplotlib.org/) [examples](http://matplotlib.org/examples/index.html) and [gallery](http://matplotlib.org/gallery.html) pages are a great resource for doing visualizations in Python.\n",
    "\n",
    "**NOTE:** It's recommended you start with something simple first. If you wish to do more, come back to it after you've completed the rest of the sections."
   ]
  },
  {
   "cell_type": "code",
   "execution_count": 6,
   "metadata": {
    "collapsed": false
   },
   "outputs": [
    {
     "name": "stdout",
     "output_type": "stream",
     "text": [
      "Counter({2: 1815, 1: 1775, 13: 1764, 38: 1680, 12: 1636, 4: 1608, 10: 1582, 5: 1478, 25: 1221, 9: 1187, 7: 1148, 8: 1115, 3: 1111, 11: 1043, 35: 982, 18: 950, 17: 897, 31: 617, 14: 616, 33: 555, 15: 492, 26: 488, 28: 441, 23: 406, 30: 360, 16: 346, 6: 331, 22: 319, 34: 319, 36: 311, 40: 293, 20: 284, 21: 258, 39: 249, 24: 215, 29: 206, 32: 192, 41: 191, 42: 187, 27: 184, 37: 175, 0: 171, 19: 169})\n"
     ]
    }
   ],
   "source": [
    "### Data exploration visualization code goes here.\n",
    "### Feel free to use as many code cells as needed.\n",
    "import matplotlib.pyplot as plt\n",
    "from mpl_toolkits.axes_grid1 import ImageGrid\n",
    "# Visualizations will be shown in the notebook.\n",
    "%matplotlib inline\n",
    "\n",
    "# sort and do statistics the training data set \n",
    "import collections\n",
    "x_test = X_train \n",
    "y_test_label = y_train\n",
    "tuple_list = []  \n",
    "for i in range(x_test.shape[0]):\n",
    "    tuple_list.append( (x_test[i], y_test_label[i]) )  \n",
    "sort_data = sorted(tuple_list, key=lambda x: x[1]) #list of tuple\n",
    "\n",
    "counter=collections.Counter(y_train)\n",
    "# print the number of images for each class\n",
    "print(counter)\n",
    "\n",
    "\n",
    "# create index range \n",
    "class_index = [None] * n_classes\n",
    "for i in range(n_classes): \n",
    "    if i == 0:        \n",
    "        class_index[i] = (0 , counter[i]-1)\n",
    "    else:\n",
    "\n",
    "        class_index[i] = (class_index[i-1][1]+1 ,class_index[i-1][1]+counter[i])\n",
    "\n",
    "\n",
    "# random plot 10 figure for each class\n",
    "#number_image_column = 10\n",
    "#fig = plt.figure(1, (50, 50))\n",
    "#grid = ImageGrid(fig, 111,  # similar to subplot(111)\n",
    "#                 nrows_ncols=(43, 10),  # creates 2x2 grid of axes\n",
    "#                 axes_pad=0.1,  # pad between axes in inch.\n",
    "#                 )\n",
    "# visualization\n",
    "#for i in range(43):\n",
    "#    for j in range(number_image_column):\n",
    "#        index = random.randint(class_index[i][0], class_index[i][1])   \n",
    "#        im = sort_data[index][0]    \n",
    "#        grid[i*number_image_column+j].imshow(im) \n"
   ]
  },
  {
   "cell_type": "code",
   "execution_count": 7,
   "metadata": {
    "collapsed": false
   },
   "outputs": [],
   "source": [
    "import datetime as dt\n",
    "import matplotlib.pyplot as plt\n",
    "from mpl_toolkits.axes_grid1 import ImageGrid\n",
    "import cv2\n",
    "\n",
    "# Visualizations will be shown in the notebook.\n",
    "%matplotlib inline\n",
    "\n",
    "def visulize_random_training_data(X_train, y_train, cmap='brg' ,number_image_column = 1):\n",
    "    start=dt.datetime.now()\n",
    "\n",
    "    # sort data\n",
    "    tuple_list = []  \n",
    "    for i in range(X_train.shape[0]):\n",
    "        tuple_list.append( (X_train[i], y_train[i]) )\n",
    "    \n",
    "    sort_data = sorted(tuple_list, key=lambda x: x[1]) #list of tuple\n",
    "    \n",
    "    counter=collections.Counter(y_train)\n",
    "\n",
    "    class_index = [None] * n_classes\n",
    "    for i in range(n_classes): \n",
    "   \n",
    "        if i == 0:        \n",
    "            class_index[i] = (0 , counter[i]-1)\n",
    "        else:\n",
    "            class_index[i] = (class_index[i-1][1]+1 ,class_index[i-1][1]+counter[i])\n",
    "   \n",
    "    #number_image_column = 1\n",
    "    fig = plt.figure(1, (50, 50))\n",
    "\n",
    "    print ('checkpoint1')\n",
    "\n",
    "    grid = ImageGrid(fig, 111,  # similar to subplot(111)\n",
    "                     nrows_ncols=(43, number_image_column),  # creates 2x2 grid of axes\n",
    "                     axes_pad=0.1,  # pad between axes in inch.\n",
    "                     )\n",
    "    print ('checkpoint2')\n",
    "    \n",
    "    # visualization\n",
    "    for i in range(43):\n",
    "        for j in range(number_image_column):\n",
    "            index = random.randint(class_index[i][0], class_index[i][1])   \n",
    "            im = sort_data[index][0]    \n",
    "            grid[i*number_image_column+j].imshow(im, cmap=cmap) \n",
    "\n",
    "    "
   ]
  },
  {
   "cell_type": "code",
   "execution_count": 8,
   "metadata": {
    "collapsed": false
   },
   "outputs": [],
   "source": [
    "#visulize_random_training_data(X_train, y_train)"
   ]
  },
  {
   "cell_type": "markdown",
   "metadata": {},
   "source": [
    "----\n",
    "\n",
    "## Step 2: Design and Test a Model Architecture\n",
    "\n",
    "Design and implement a deep learning model that learns to recognize traffic signs. Train and test your model on the [German Traffic Sign Dataset](http://benchmark.ini.rub.de/?section=gtsrb&subsection=dataset).\n",
    "\n",
    "There are various aspects to consider when thinking about this problem:\n",
    "\n",
    "- Neural network architecture\n",
    "- Play around preprocessing techniques (normalization, rgb to grayscale, etc)\n",
    "- Number of examples per label (some have more than others).\n",
    "- Generate fake data.\n",
    "\n",
    "Here is an example of a [published baseline model on this problem](http://yann.lecun.com/exdb/publis/pdf/sermanet-ijcnn-11.pdf). It's not required to be familiar with the approach used in the paper but, it's good practice to try to read papers like these.\n",
    "\n",
    "**NOTE:** The LeNet-5 implementation shown in the [classroom](https://classroom.udacity.com/nanodegrees/nd013/parts/fbf77062-5703-404e-b60c-95b78b2f3f9e/modules/6df7ae49-c61c-4bb2-a23e-6527e69209ec/lessons/601ae704-1035-4287-8b11-e2c2716217ad/concepts/d4aca031-508f-4e0b-b493-e7b706120f81) at the end of the CNN lesson is a solid starting point. You'll have to change the number of classes and possibly the preprocessing, but aside from that it's plug and play!"
   ]
  },
  {
   "cell_type": "markdown",
   "metadata": {},
   "source": [
    "### Pre-process the Data Set (normalization, grayscale, etc.)"
   ]
  },
  {
   "cell_type": "code",
   "execution_count": 9,
   "metadata": {
    "collapsed": false
   },
   "outputs": [
    {
     "data": {
      "text/plain": [
       "dtype('uint8')"
      ]
     },
     "execution_count": 9,
     "metadata": {},
     "output_type": "execute_result"
    }
   ],
   "source": [
    "X_train.dtype"
   ]
  },
  {
   "cell_type": "markdown",
   "metadata": {},
   "source": [
    "Use the code cell (or multiple code cells, if necessary) to implement the first step of your project."
   ]
  },
  {
   "cell_type": "code",
   "execution_count": 10,
   "metadata": {
    "collapsed": true
   },
   "outputs": [],
   "source": [
    "import cv2\n",
    "def random_perspective_transform(image):\n",
    "    width = 32\n",
    "    \n",
    "    # rotation \n",
    "    M = cv2.getRotationMatrix2D((width/2,width/2),random.randint(-15,15),random.uniform(0.9, 1.1))\n",
    "    rotation = cv2.warpAffine(image,M,(width,width))\n",
    "    \n",
    "    # perspective transform \n",
    "    perturb_pixel1 = random.randint(0,3)  \n",
    "    perturb_pixel2 = random.randint(0,3)  \n",
    "    perturb_pixel3 = random.randint(0,3)  \n",
    "    perturb_pixel4 = random.randint(0,3)  \n",
    "    perturb_pixel5 = random.randint(0,3)  \n",
    "    perturb_pixel6 = random.randint(0,3)  \n",
    "    perturb_pixel7 = random.randint(0,3)  \n",
    "    perturb_pixel8 = random.randint(0,3)  \n",
    "    \n",
    "    pts2 = np.float32([[0,0],[width,0],[0,width],[width,width]])\n",
    "    \n",
    "    pts1 = np.float32([[0+perturb_pixel1,0+perturb_pixel2],\n",
    "                       [width-perturb_pixel3,0+perturb_pixel4],\n",
    "                       [0+perturb_pixel5,width-perturb_pixel6],\n",
    "                       [width-perturb_pixel7,width-perturb_pixel8]])\n",
    "\n",
    "    M = cv2.getPerspectiveTransform(pts1,pts2)\n",
    "    dst = cv2.warpPerspective(rotation,M,(width,width))\n",
    "    return dst\n"
   ]
  },
  {
   "cell_type": "code",
   "execution_count": 11,
   "metadata": {
    "collapsed": false
   },
   "outputs": [
    {
     "data": {
      "image/png": "[encoded data removed]",
      "text/plain": [
       "<matplotlib.figure.Figure at 0x7f3c0cc59a20>"
      ]
     },
     "metadata": {},
     "output_type": "display_data"
    }
   ],
   "source": [
    "## Test random transformation\n",
    "nrows = 1\n",
    "ncols = 10\n",
    "plt.figure(1, figsize=(50,50))\n",
    "\n",
    "for i in range(10):\n",
    "    img = random_perspective_transform(X_train[32])\n",
    "    plt.subplot(nrows, ncols, i+1)\n",
    "    plt.imshow(img)\n",
    "    \n"
   ]
  },
  {
   "cell_type": "markdown",
   "metadata": {},
   "source": [
    "### Balencing training set"
   ]
  },
  {
   "cell_type": "code",
   "execution_count": 12,
   "metadata": {
    "collapsed": false,
    "scrolled": false
   },
   "outputs": [
    {
     "name": "stdout",
     "output_type": "stream",
     "text": [
      "(8600, 32, 32, 3)\n",
      "(8600, 32, 32, 3)\n",
      "(8600,)\n"
     ]
    }
   ],
   "source": [
    "# create a new training set with equal number of class\n",
    "class_index\n",
    "number_pro_class = 200\n",
    "new_X_train = np.zeros([number_pro_class * n_classes , 32,32,3], dtype=np.uint8)\n",
    "new_y_train = np.zeros(number_pro_class * n_classes)\n",
    "\n",
    "print (new_X_train.shape)\n",
    "\n",
    "\n",
    "iterator = 0\n",
    "for i in range(43):\n",
    "    for j in range(number_pro_class):\n",
    "        index = random.randint(class_index[i][0], class_index[i][1])   \n",
    "        # conduct random transformation of the data\n",
    "        transformed_img = random_perspective_transform(sort_data[index][0])\n",
    "        new_X_train[iterator] = sort_data[index][0]\n",
    "        new_y_train[iterator] = sort_data[index][1]\n",
    "        iterator +=1\n",
    "\n",
    "print (new_X_train.shape)\n",
    "print (new_y_train.shape)\n",
    "\n",
    "# visulize_random_training_data(new_X_train, new_y_train)\n",
    "# randomlize \n",
    "X_train, X_valid_tmp, y_train, y_valid_tmp = train_test_split(new_X_train, new_y_train, test_size=0.0, random_state=42)\n",
    "\n",
    "\n"
   ]
  },
  {
   "cell_type": "code",
   "execution_count": 13,
   "metadata": {
    "collapsed": true
   },
   "outputs": [],
   "source": [
    "import cv2\n",
    "# input is a color image, output is a 1 channel image. \n",
    "def histogram_equalization(image):\n",
    "    # convert to yuv \n",
    "    yuv_img = cv2.cvtColor(image, cv2.COLOR_RGB2YUV)\n",
    "    y_channel = yuv_img[:,:,0]\n",
    "    equ_img = cv2.equalizeHist(y_channel)\n",
    "    return equ_img\n",
    "       \n",
    "    "
   ]
  },
  {
   "cell_type": "markdown",
   "metadata": {},
   "source": [
    "### Visualize random images after preprocessing "
   ]
  },
  {
   "cell_type": "code",
   "execution_count": 14,
   "metadata": {
    "collapsed": false
   },
   "outputs": [
    {
     "data": {
      "text/plain": [
       "(8600, 32, 32, 1)"
      ]
     },
     "execution_count": 14,
     "metadata": {},
     "output_type": "execute_result"
    }
   ],
   "source": [
    "X_train_pre = np.zeros([X_train.shape[0],32,32])\n",
    "# test image \n",
    "for i in range(X_train.shape[0]):\n",
    "    X_train_pre[i] = histogram_equalization(X_train[i])\n",
    "\n",
    "X_train_gray = X_train_pre.reshape([X_train.shape[0],32,32,1]  )\n",
    "X_train_gray.shape\n",
    "#visulize_random_training_data(X_train_pre, y_train,cmap='gray',number_image_column=10)\n"
   ]
  },
  {
   "cell_type": "code",
   "execution_count": 15,
   "metadata": {
    "collapsed": true
   },
   "outputs": [],
   "source": [
    "# Data preprocessing pipeline\n",
    "def preprocessing(X_train):\n",
    "    # histogram_equalization\n",
    "    #X_train_pre = np.zeros([X_train.shape[0],32,32])\n",
    "    #print(X_train_pre.shape)\n",
    "    #for i in range(X_train.shape[0]):\n",
    "    #    X_train_pre[i] = histogram_equalization(X_train[i])\n",
    "    \n",
    "    #print(X_train_pre.shape)\n",
    "    #X_train_reshape = X_train_pre.reshape([X_train.shape[0],32,32,1]  )\n",
    "    \n",
    "    \n",
    "    # normalization \n",
    "    X_train_reshape = X_train\n",
    "    x_norm = X_train_reshape/255.0\n",
    "    return x_norm"
   ]
  },
  {
   "cell_type": "code",
   "execution_count": 16,
   "metadata": {
    "collapsed": false
   },
   "outputs": [
    {
     "data": {
      "text/plain": [
       "(8600, 32, 32, 3)"
      ]
     },
     "execution_count": 16,
     "metadata": {},
     "output_type": "execute_result"
    }
   ],
   "source": [
    "X_train.shape"
   ]
  },
  {
   "cell_type": "code",
   "execution_count": 17,
   "metadata": {
    "collapsed": false
   },
   "outputs": [],
   "source": [
    "### Preprocess the data here. Preprocessing steps could include normalization, converting to grayscale, etc.\n",
    "### Feel free to use as many code cells as needed.\n",
    "import numpy as np\n",
    "# normalize a image\n",
    "X_train =  preprocessing(X_train)\n",
    "X_valid = preprocessing(X_valid)"
   ]
  },
  {
   "cell_type": "code",
   "execution_count": null,
   "metadata": {
    "collapsed": false
   },
   "outputs": [],
   "source": []
  },
  {
   "cell_type": "markdown",
   "metadata": {},
   "source": [
    "### Model Architecture"
   ]
  },
  {
   "cell_type": "code",
   "execution_count": 18,
   "metadata": {
    "collapsed": false
   },
   "outputs": [],
   "source": [
    "### Define your architecture here.\n",
    "### Feel free to use as many code cells as needed.\n",
    "from tensorflow.contrib.layers import flatten\n",
    "import tensorflow as tf\n",
    "def LeNet(x):    \n",
    "    # Arguments used for tf.truncated_normal, randomly defines variables for the weights and biases for each layer\n",
    "    mu = 0\n",
    "    sigma = 0.1\n",
    "    \n",
    "    # SOLUTION: Layer 1: Convolutional. Input = 32x32x1. Output = 28x28x6.\n",
    "    conv1_W = tf.Variable(tf.truncated_normal(shape=(5, 5, 3, 6), mean = mu, stddev = sigma))\n",
    "    conv1_b = tf.Variable(tf.zeros(6))\n",
    "    conv1   = tf.nn.conv2d(x, conv1_W, strides=[1, 1, 1, 1], padding='VALID') + conv1_b\n",
    "\n",
    "    # SOLUTION: Activation.\n",
    "    conv1 = tf.nn.relu(conv1)\n",
    "\n",
    "    # SOLUTION: Pooling. Input = 28x28x6. Output = 14x14x6.\n",
    "    conv1 = tf.nn.max_pool(conv1, ksize=[1, 2, 2, 1], strides=[1, 2, 2, 1], padding='VALID')\n",
    "\n",
    "    # SOLUTION: Layer 2: Convolutional. Output = 10x10x16.\n",
    "    conv2_W = tf.Variable(tf.truncated_normal(shape=(5, 5, 6, 16), mean = mu, stddev = sigma))\n",
    "    conv2_b = tf.Variable(tf.zeros(16))\n",
    "    conv2   = tf.nn.conv2d(conv1, conv2_W, strides=[1, 1, 1, 1], padding='VALID') + conv2_b\n",
    "    \n",
    "    # SOLUTION: Activation.\n",
    "    conv2 = tf.nn.relu(conv2)\n",
    "\n",
    "    # SOLUTION: Pooling. Input = 10x10x16. Output = 5x5x16.\n",
    "    conv2 = tf.nn.max_pool(conv2, ksize=[1, 2, 2, 1], strides=[1, 2, 2, 1], padding='VALID')\n",
    "\n",
    "    # SOLUTION: Flatten. Input = 5x5x16. Output = 400.\n",
    "    fc0   = flatten(conv2)\n",
    "    \n",
    "    # SOLUTION: Layer 3: Fully Connected. Input = 400. Output = 120.\n",
    "    fc1_W = tf.Variable(tf.truncated_normal(shape=(400, 120), mean = mu, stddev = sigma))\n",
    "    fc1_b = tf.Variable(tf.zeros(120))\n",
    "    fc1   = tf.matmul(fc0, fc1_W) + fc1_b\n",
    "    \n",
    "    # SOLUTION: Activation.\n",
    "    fc1    = tf.nn.relu(fc1)\n",
    "\n",
    "    # SOLUTION: Layer 4: Fully Connected. Input = 120. Output = 84.\n",
    "    fc2_W  = tf.Variable(tf.truncated_normal(shape=(120, 84), mean = mu, stddev = sigma))\n",
    "    fc2_b  = tf.Variable(tf.zeros(84))\n",
    "    fc2    = tf.matmul(fc1, fc2_W) + fc2_b\n",
    "    \n",
    "    # SOLUTION: Activation.\n",
    "    fc2    = tf.nn.relu(fc2)\n",
    "\n",
    "    # SOLUTION: Layer 5: Fully Connected. Input = 84. Output = 10.\n",
    "    fc3_W  = tf.Variable(tf.truncated_normal(shape=(84, n_classes), mean = mu, stddev = sigma))\n",
    "    fc3_b  = tf.Variable(tf.zeros(n_classes))\n",
    "    logits = tf.matmul(fc2, fc3_W) + fc3_b\n",
    "    \n",
    "    return logits\n",
    "\n",
    "def myLeNet(x):    \n",
    "    # Arguments used for tf.truncated_normal, randomly defines variables for the weights and biases for each layer\n",
    "    mu = 0\n",
    "    sigma = 0.1\n",
    "    weights = {\n",
    "    'wc1': tf.Variable(tf.truncated_normal([5, 5, 3, 6],   mean = mu, stddev = sigma)),\n",
    "    'wc2': tf.Variable(tf.truncated_normal([5, 5, 6, 16],  mean = mu, stddev = sigma)),\n",
    "    'wc3': tf.Variable(tf.truncated_normal([400,120],      mean = mu, stddev = sigma)),\n",
    "    'wc4': tf.Variable(tf.truncated_normal([120,84],       mean = mu, stddev = sigma)),\n",
    "    'wc5': tf.Variable(tf.truncated_normal([84,n_classes], mean = mu, stddev = sigma))\n",
    "        \n",
    "    }\n",
    "    \n",
    "    bias = {\n",
    "    'b1':  tf.Variable(tf.zeros(6)),\n",
    "    'b2':  tf.Variable(tf.zeros(16)),\n",
    "    'b3':  tf.Variable(tf.zeros(120)),\n",
    "    'b4':  tf.Variable(tf.zeros(84)),\n",
    "    'b5':  tf.Variable(tf.zeros(n_classes))\n",
    "\n",
    "    }\n",
    "\n",
    "    \n",
    "    # TODO: Layer 1: Convolutional. Input = 32x32x1. Output = 28x28x6.\n",
    "    conv = tf.nn.conv2d(x, weights['wc1'], [1,1,1,1], 'VALID') + bias['b1']\n",
    "    \n",
    "    # TODO: Activation.\n",
    "    conv = tf.nn.relu(conv)\n",
    "\n",
    "    # TODO: Pooling. Input = 28x28x6. Output = 14x14x6.\n",
    "    conv = tf.nn.max_pool(conv, [1, 2, 2, 1], [1, 2, 2, 1], 'VALID')\n",
    "    \n",
    "    # TODO: Layer 2: Convolutional. Output = 10x10x16.\n",
    "    conv = tf.nn.conv2d(conv, weights['wc2'], [1,1,1,1], 'VALID') + bias['b2']\n",
    "\n",
    "    # TODO: Activation.\n",
    "    conv = tf.nn.relu(conv)\n",
    "\n",
    "    # TODO: Pooling. Input = 10x10x16. Output = 5x5x16.\n",
    "    conv = tf.nn.max_pool(conv, [1, 2, 2, 1], [1, 2, 2, 1], 'VALID')\n",
    "    \n",
    "    # TODO: Flatten. Input = 5x5x16. Output = 400.\n",
    "    conv = flatten(conv)\n",
    "\n",
    "   \n",
    "    # TODO: Layer 3: Fully Connected. Input = 400. Output = 120.\n",
    "    conv = tf.add(tf.matmul(conv, weights['wc3']), bias['b3'])\n",
    "    \n",
    "    # TODO: Activation.\n",
    "    conv = tf.nn.relu(conv)\n",
    "\n",
    "    # TODO: Layer 4: Fully Connected. Input = 120. Output = 84.\n",
    "    conv = tf.add(tf.matmul(conv, weights['wc4']), bias['b4'])\n",
    "    \n",
    "    # TODO: Activation.\n",
    "    conv = tf.nn.relu(conv)\n",
    "    \n",
    "    # Test add drop out \n",
    "    conv = tf.nn.dropout(conv , keep_prob)\n",
    "\n",
    "    \n",
    "    # TODO: Layer 5: Fully Connected. Input = 84. Output = 10.\n",
    "    logits = tf.add(tf.matmul(conv, weights['wc5']), bias['b5'])\n",
    "\n",
    "    return logits\n"
   ]
  },
  {
   "cell_type": "markdown",
   "metadata": {},
   "source": [
    "## Test output dimension"
   ]
  },
  {
   "cell_type": "code",
   "execution_count": 19,
   "metadata": {
    "collapsed": false
   },
   "outputs": [
    {
     "data": {
      "text/plain": [
       "(8600, 32, 32, 3)"
      ]
     },
     "execution_count": 19,
     "metadata": {},
     "output_type": "execute_result"
    }
   ],
   "source": [
    "X_train.shape"
   ]
  },
  {
   "cell_type": "markdown",
   "metadata": {},
   "source": [
    "### Train, Validate and Test the Model"
   ]
  },
  {
   "cell_type": "markdown",
   "metadata": {},
   "source": [
    "A validation set can be used to assess how well the model is performing. A low accuracy on the training and validation\n",
    "sets imply underfitting. A high accuracy on the training set but low accuracy on the validation set implies overfitting."
   ]
  },
  {
   "cell_type": "code",
   "execution_count": 20,
   "metadata": {
    "collapsed": false
   },
   "outputs": [],
   "source": [
    "### Train your model here.\n",
    "### Calculate and report the accuracy on the training and validation set.\n",
    "### Once a final model architecture is selected, \n",
    "### the accuracy on the test set should be calculated and reported as well.\n",
    "### Feel free to use as many code cells as needed.\n",
    "x = tf.placeholder(tf.float32, (None, 32, 32, 3))\n",
    "y = tf.placeholder(tf.int32, (None))\n",
    "keep_prob = tf.placeholder(tf.float32)\n",
    "global_step = tf.Variable(0, trainable=False)\n",
    "#boundaries = [100000, 200000 , 500000]\n",
    "#values = [0.001, 0.0005, 0.0001]\n",
    "starter_learning_rate = 0.001\n",
    "learning_rate = tf.train.exponential_decay(starter_learning_rate, global_step,\n",
    "                                           100000, 0.96, staircase=True)\n",
    "#learning_rate = tf.train.piecewise_constant(global_step, boundaries, values)\n",
    "\n",
    "\n",
    "one_hot_y = tf.one_hot(y, n_classes)\n",
    "EPOCHS = 2\n",
    "BATCH_SIZE = 128\n",
    "\n",
    "rate = 0.001\n",
    "logits = LeNet(x)\n",
    "cross_entropy = tf.nn.softmax_cross_entropy_with_logits(logits = logits, labels=one_hot_y)\n",
    "loss_operation = tf.reduce_mean(cross_entropy)\n",
    "optimizer = tf.train.AdamOptimizer(learning_rate = learning_rate)\n",
    "training_operation = optimizer.minimize(loss_operation, global_step = global_step )\n",
    "\n",
    "# shuffle training data \n",
    "from sklearn.utils import shuffle\n",
    "X_train, y_train = shuffle(X_train, y_train)\n",
    "\n"
   ]
  },
  {
   "cell_type": "code",
   "execution_count": 21,
   "metadata": {
    "collapsed": false
   },
   "outputs": [
    {
     "data": {
      "text/plain": [
       "(8600,)"
      ]
     },
     "execution_count": 21,
     "metadata": {},
     "output_type": "execute_result"
    }
   ],
   "source": [
    "y_train.shape"
   ]
  },
  {
   "cell_type": "markdown",
   "metadata": {},
   "source": [
    "## Model evaluation"
   ]
  },
  {
   "cell_type": "code",
   "execution_count": 22,
   "metadata": {
    "collapsed": false
   },
   "outputs": [],
   "source": [
    "correct_prediction = tf.equal(tf.argmax(logits, 1), tf.argmax(one_hot_y, 1))\n",
    "accuracy_operation = tf.reduce_mean(tf.cast(correct_prediction, tf.float32))\n",
    "saver = tf.train.Saver()\n",
    "\n",
    "def evaluate(X_data, y_data):\n",
    "    num_examples = len(X_data)\n",
    "    total_accuracy = 0\n",
    "    total_loss = 0\n",
    "    sess = tf.get_default_session()\n",
    "    for offset in range(0, num_examples, BATCH_SIZE):\n",
    "        batch_x, batch_y = X_data[offset:offset+BATCH_SIZE], y_data[offset:offset+BATCH_SIZE]\n",
    "        accuracy = sess.run(accuracy_operation, feed_dict={x: batch_x, y: batch_y , keep_prob:1.0})        \n",
    "        total_accuracy += (accuracy * len(batch_x))       \n",
    "        \n",
    "    return total_accuracy / num_examples  "
   ]
  },
  {
   "cell_type": "code",
   "execution_count": 23,
   "metadata": {
    "collapsed": true
   },
   "outputs": [],
   "source": [
    "## Training"
   ]
  },
  {
   "cell_type": "code",
   "execution_count": 24,
   "metadata": {
    "collapsed": false,
    "scrolled": true
   },
   "outputs": [
    {
     "name": "stdout",
     "output_type": "stream",
     "text": [
      "Training...\n",
      "\n",
      "learning rate 0.001\n",
      "EPOCH 1 ...\n",
      "Validation Accuracy = 0.289\n",
      "Training Accuracy = 0.372\n",
      "\n",
      "learning rate 0.001\n",
      "EPOCH 2 ...\n",
      "Validation Accuracy = 0.522\n",
      "Training Accuracy = 0.593\n",
      "\n",
      "Model saved\n"
     ]
    }
   ],
   "source": [
    "with tf.Session() as sess:\n",
    "    sess.run(tf.global_variables_initializer())\n",
    "    num_examples = len(X_train)\n",
    "    \n",
    "    print(\"Training...\")\n",
    "    print()\n",
    "    for i in range(EPOCHS):\n",
    "        X_train, y_train = shuffle(X_train, y_train)\n",
    "        for offset in range(0, num_examples, BATCH_SIZE):\n",
    "            end = offset + BATCH_SIZE\n",
    "            batch_x, batch_y = X_train[offset:end], y_train[offset:end]\n",
    "            sess.run(training_operation, feed_dict={x: batch_x, y: batch_y, keep_prob:0.5})\n",
    "            rate = sess.run(learning_rate, feed_dict={x: batch_x, y: batch_y, keep_prob:0.5})\n",
    "            #loss = sess.run(loss_operation, feed_dict={x: batch_x, y: batch_y})\n",
    "            \n",
    "        validation_accuracy = evaluate(X_valid, y_valid)\n",
    "        validation_accuracy_train = evaluate(X_train, y_train)\n",
    "        # \n",
    "        \n",
    "        print ('learning rate',rate)\n",
    "        print(\"EPOCH {} ...\".format(i+1))\n",
    "        print(\"Validation Accuracy = {:.3f}\".format(validation_accuracy))\n",
    "        print(\"Training Accuracy = {:.3f}\".format(validation_accuracy_train))\n",
    "        \n",
    "        print()\n",
    "        \n",
    "    saver.save(sess, './lenet')\n",
    "    print(\"Model saved\")"
   ]
  },
  {
   "cell_type": "markdown",
   "metadata": {},
   "source": [
    "## Evaludate validation accuracy per class"
   ]
  },
  {
   "cell_type": "code",
   "execution_count": 48,
   "metadata": {
    "collapsed": false,
    "scrolled": true
   },
   "outputs": [
    {
     "name": "stdout",
     "output_type": "stream",
     "text": [
      "[[  18.   15.  291.   67.   56.   21.   11.   44.   18.  144.  360.  149.\n",
      "   353.  321.  159.   95.   59.  190.  101.   10.   40.   60.   66.   38.\n",
      "     1.  118.   83.   10.   42.   46.   42.   12.   34.  128.   81.  198.\n",
      "    54.   32.  340.   51.   51.   35.   52.]]\n",
      "[[  39.  445.  435.  299.  372.  382.   89.  292.  295.  283.  428.  277.\n",
      "   464.  396.  164.  138.   74.  213.  250.   41.   76.   72.   71.  104.\n",
      "    55.  279.  112.   56.   99.   64.   90.  163.   48.  134.  101.  218.\n",
      "    79.   35.  390.   51.   67.   49.   53.]]\n"
     ]
    }
   ],
   "source": [
    "X_valid = X_valid.astype(np.float32)\n",
    "#test_out = LeNet(x)\n",
    "with tf.Session() as sess:\n",
    "    saver.restore(sess, tf.train.latest_checkpoint('.'))\n",
    "    num_examples = len(X_valid)\n",
    "    X_valid, y_valid = shuffle(X_valid, y_valid)\n",
    "    logit_output = sess.run( logits ,    feed_dict={x: X_valid, y: y_valid, keep_prob:1}) \n",
    "    one_hot_yy =   sess.run( one_hot_y , feed_dict={x: X_valid, y: y_valid, keep_prob:1})\n",
    "    correct = np.zeros( (1,43) )\n",
    "    total = np.zeros( (1,43) )\n",
    "    for i in range(logit_output.shape[0]):\n",
    "        total = total + one_hot_yy[i] \n",
    "        if  np.argmax(logit_output[i]) == np.argmax(one_hot_yy[i]) :\n",
    "            correct = correct + one_hot_yy[i] \n",
    "    accuracy = correct * 1.0 / total\n",
    "    print (correct)\n",
    "    print (total)\n",
    "    \n",
    "\n"
   ]
  },
  {
   "cell_type": "code",
   "execution_count": 99,
   "metadata": {
    "collapsed": false
   },
   "outputs": [
    {
     "data": {
      "text/plain": [
       "<matplotlib.legend.Legend at 0x7f3ab92e2c18>"
      ]
     },
     "execution_count": 99,
     "metadata": {},
     "output_type": "execute_result"
    },
    {
     "data": {
      "image/png": "[encoded data removed]",
      "text/plain": [
       "<matplotlib.figure.Figure at 0x7f3ab9450f98>"
      ]
     },
     "metadata": {},
     "output_type": "display_data"
    },
    {
     "data": {
      "image/png": "[encoded data removed]",
      "text/plain": [
       "<matplotlib.figure.Figure at 0x7f3ab943cd30>"
      ]
     },
     "metadata": {},
     "output_type": "display_data"
    }
   ],
   "source": [
    "## Visualization of the validation result\n",
    "import numpy as np\n",
    "import matplotlib.pyplot as plt\n",
    "\n",
    " \n",
    "n_groups = n_classes\n",
    "plt.figure(1, figsize=(50,10))\n",
    "index = np.arange(n_groups)\n",
    "bar_width = 0.4\n",
    "opacity = 1\n",
    "rects2 = plt.bar(index , correct.reshape(n_groups).tolist(), bar_width,\n",
    "                 alpha=opacity,\n",
    "                 color='g',\n",
    "                 label='correct classified')     \n",
    "rects1 = plt.bar(index+ bar_width,  total.reshape(n_groups).tolist(), bar_width,\n",
    "                 alpha=opacity,\n",
    "                 color='r',\n",
    "                 label='total number')\n",
    "plt.tick_params(axis='both', which='major', labelsize=30)\n",
    "plt.title('Validation result ')\n",
    "plt.legend(fontsize='40')\n",
    "\n",
    "plt.figure(2, figsize=(50,10))\n",
    "rects1 = plt.bar(index+ 0.5*bar_width,  accuracy.reshape(n_groups).tolist(), bar_width,\n",
    "                 alpha=opacity,\n",
    "                 color='b',\n",
    "                 label='Validation Accuracy pro class')\n",
    "plt.tick_params(axis='both', which='major', labelsize=30)\n",
    "plt.title('Accuracy result ')\n",
    "plt.legend(fontsize='40')\n"
   ]
  },
  {
   "cell_type": "code",
   "execution_count": null,
   "metadata": {
    "collapsed": false
   },
   "outputs": [],
   "source": [
    "with tf.Session() as sess:\n",
    "    saver.restore(sess, tf.train.latest_checkpoint('.'))\n",
    "\n",
    "    test_accuracy = evaluate(X_test, y_test)\n",
    "    print(\"Test Accuracy = {:.3f}\".format(test_accuracy))"
   ]
  },
  {
   "cell_type": "markdown",
   "metadata": {},
   "source": [
    "---\n",
    "\n",
    "## Step 3: Test a Model on New Images\n",
    "\n",
    "To give yourself more insight into how your model is working, download at least five pictures of German traffic signs from the web and use your model to predict the traffic sign type.\n",
    "\n",
    "You may find `signnames.csv` useful as it contains mappings from the class id (integer) to the actual sign name."
   ]
  },
  {
   "cell_type": "code",
   "execution_count": null,
   "metadata": {
    "collapsed": true
   },
   "outputs": [],
   "source": []
  },
  {
   "cell_type": "markdown",
   "metadata": {},
   "source": [
    "### Load and Output the Images"
   ]
  },
  {
   "cell_type": "code",
   "execution_count": null,
   "metadata": {
    "collapsed": true
   },
   "outputs": [],
   "source": [
    "### Load the images and plot them here.\n",
    "### Feel free to use as many code cells as needed."
   ]
  },
  {
   "cell_type": "markdown",
   "metadata": {},
   "source": [
    "### Predict the Sign Type for Each Image"
   ]
  },
  {
   "cell_type": "code",
   "execution_count": null,
   "metadata": {
    "collapsed": true
   },
   "outputs": [],
   "source": [
    "### Run the predictions here and use the model to output the prediction for each image.\n",
    "### Make sure to pre-process the images with the same pre-processing pipeline used earlier.\n",
    "### Feel free to use as many code cells as needed."
   ]
  },
  {
   "cell_type": "markdown",
   "metadata": {},
   "source": [
    "### Analyze Performance"
   ]
  },
  {
   "cell_type": "code",
   "execution_count": null,
   "metadata": {
    "collapsed": true
   },
   "outputs": [],
   "source": [
    "### Calculate the accuracy for these 5 new images. \n",
    "### For example, if the model predicted 1 out of 5 signs correctly, it's 20% accurate on these new images."
   ]
  },
  {
   "cell_type": "markdown",
   "metadata": {},
   "source": [
    "### Output Top 5 Softmax Probabilities For Each Image Found on the Web"
   ]
  },
  {
   "cell_type": "markdown",
   "metadata": {},
   "source": [
    "For each of the new images, print out the model's softmax probabilities to show the **certainty** of the model's predictions (limit the output to the top 5 probabilities for each image). [`tf.nn.top_k`](https://www.tensorflow.org/versions/r0.12/api_docs/python/nn.html#top_k) could prove helpful here. \n",
    "\n",
    "The example below demonstrates how tf.nn.top_k can be used to find the top k predictions for each image.\n",
    "\n",
    "`tf.nn.top_k` will return the values and indices (class ids) of the top k predictions. So if k=3, for each sign, it'll return the 3 largest probabilities (out of a possible 43) and the correspoding class ids.\n",
    "\n",
    "Take this numpy array as an example. The values in the array represent predictions. The array contains softmax probabilities for five candidate images with six possible classes. `tk.nn.top_k` is used to choose the three classes with the highest probability:\n",
    "\n",
    "```\n",
    "# (5, 6) array\n",
    "a = np.array([[ 0.24879643,  0.07032244,  0.12641572,  0.34763842,  0.07893497,\n",
    "         0.12789202],\n",
    "       [ 0.28086119,  0.27569815,  0.08594638,  0.0178669 ,  0.18063401,\n",
    "         0.15899337],\n",
    "       [ 0.26076848,  0.23664738,  0.08020603,  0.07001922,  0.1134371 ,\n",
    "         0.23892179],\n",
    "       [ 0.11943333,  0.29198961,  0.02605103,  0.26234032,  0.1351348 ,\n",
    "         0.16505091],\n",
    "       [ 0.09561176,  0.34396535,  0.0643941 ,  0.16240774,  0.24206137,\n",
    "         0.09155967]])\n",
    "```\n",
    "\n",
    "Running it through `sess.run(tf.nn.top_k(tf.constant(a), k=3))` produces:\n",
    "\n",
    "```\n",
    "TopKV2(values=array([[ 0.34763842,  0.24879643,  0.12789202],\n",
    "       [ 0.28086119,  0.27569815,  0.18063401],\n",
    "       [ 0.26076848,  0.23892179,  0.23664738],\n",
    "       [ 0.29198961,  0.26234032,  0.16505091],\n",
    "       [ 0.34396535,  0.24206137,  0.16240774]]), indices=array([[3, 0, 5],\n",
    "       [0, 1, 4],\n",
    "       [0, 5, 1],\n",
    "       [1, 3, 5],\n",
    "       [1, 4, 3]], dtype=int32))\n",
    "```\n",
    "\n",
    "Looking just at the first row we get `[ 0.34763842,  0.24879643,  0.12789202]`, you can confirm these are the 3 largest probabilities in `a`. You'll also notice `[3, 0, 5]` are the corresponding indices."
   ]
  },
  {
   "cell_type": "code",
   "execution_count": null,
   "metadata": {
    "collapsed": true
   },
   "outputs": [],
   "source": [
    "### Print out the top five softmax probabilities for the predictions on the German traffic sign images found on the web. \n",
    "### Feel free to use as many code cells as needed."
   ]
  },
  {
   "cell_type": "markdown",
   "metadata": {},
   "source": [
    "---\n",
    "\n",
    "## Step 4: Visualize the Neural Network's State with Test Images\n",
    "\n",
    " This Section is not required to complete but acts as an additional excersise for understaning the output of a neural network's weights. While neural networks can be a great learning device they are often referred to as a black box. We can understand what the weights of a neural network look like better by plotting their feature maps. After successfully training your neural network you can see what it's feature maps look like by plotting the output of the network's weight layers in response to a test stimuli image. From these plotted feature maps, it's possible to see what characteristics of an image the network finds interesting. For a sign, maybe the inner network feature maps react with high activation to the sign's boundary outline or to the contrast in the sign's painted symbol.\n",
    "\n",
    " Provided for you below is the function code that allows you to get the visualization output of any tensorflow weight layer you want. The inputs to the function should be a stimuli image, one used during training or a new one you provided, and then the tensorflow variable name that represents the layer's state during the training process, for instance if you wanted to see what the [LeNet lab's](https://classroom.udacity.com/nanodegrees/nd013/parts/fbf77062-5703-404e-b60c-95b78b2f3f9e/modules/6df7ae49-c61c-4bb2-a23e-6527e69209ec/lessons/601ae704-1035-4287-8b11-e2c2716217ad/concepts/d4aca031-508f-4e0b-b493-e7b706120f81) feature maps looked like for it's second convolutional layer you could enter conv2 as the tf_activation variable.\n",
    "\n",
    "For an example of what feature map outputs look like, check out NVIDIA's results in their paper [End-to-End Deep Learning for Self-Driving Cars](https://devblogs.nvidia.com/parallelforall/deep-learning-self-driving-cars/) in the section Visualization of internal CNN State. NVIDIA was able to show that their network's inner weights had high activations to road boundary lines by comparing feature maps from an image with a clear path to one without. Try experimenting with a similar test to show that your trained network's weights are looking for interesting features, whether it's looking at differences in feature maps from images with or without a sign, or even what feature maps look like in a trained network vs a completely untrained one on the same sign image.\n",
    "\n",
    "<figure>\n",
    " <img src=\"visualize_cnn.png\" width=\"380\" alt=\"Combined Image\" />\n",
    " <figcaption>\n",
    " <p></p> \n",
    " <p style=\"text-align: center;\"> Your output should look something like this (above)</p> \n",
    " </figcaption>\n",
    "</figure>\n",
    " <p></p> \n"
   ]
  },
  {
   "cell_type": "code",
   "execution_count": null,
   "metadata": {
    "collapsed": true
   },
   "outputs": [],
   "source": [
    "### Visualize your network's feature maps here.\n",
    "### Feel free to use as many code cells as needed.\n",
    "\n",
    "# image_input: the test image being fed into the network to produce the feature maps\n",
    "# tf_activation: should be a tf variable name used during your training procedure that represents the calculated state of a specific weight layer\n",
    "# activation_min/max: can be used to view the activation contrast in more detail, by default matplot sets min and max to the actual min and max values of the output\n",
    "# plt_num: used to plot out multiple different weight feature map sets on the same block, just extend the plt number for each new feature map entry\n",
    "\n",
    "def outputFeatureMap(image_input, tf_activation, activation_min=-1, activation_max=-1 ,plt_num=1):\n",
    "    # Here make sure to preprocess your image_input in a way your network expects\n",
    "    # with size, normalization, ect if needed\n",
    "    # image_input =\n",
    "    # Note: x should be the same name as your network's tensorflow data placeholder variable\n",
    "    # If you get an error tf_activation is not defined it maybe having trouble accessing the variable from inside a function\n",
    "    activation = tf_activation.eval(session=sess,feed_dict={x : image_input})\n",
    "    featuremaps = activation.shape[3]\n",
    "    plt.figure(plt_num, figsize=(15,15))\n",
    "    for featuremap in range(featuremaps):\n",
    "        plt.subplot(6,8, featuremap+1) # sets the number of feature maps to show on each row and column\n",
    "        plt.title('FeatureMap ' + str(featuremap)) # displays the feature map number\n",
    "        if activation_min != -1 & activation_max != -1:\n",
    "            plt.imshow(activation[0,:,:, featuremap], interpolation=\"nearest\", vmin =activation_min, vmax=activation_max, cmap=\"gray\")\n",
    "        elif activation_max != -1:\n",
    "            plt.imshow(activation[0,:,:, featuremap], interpolation=\"nearest\", vmax=activation_max, cmap=\"gray\")\n",
    "        elif activation_min !=-1:\n",
    "            plt.imshow(activation[0,:,:, featuremap], interpolation=\"nearest\", vmin=activation_min, cmap=\"gray\")\n",
    "        else:\n",
    "            plt.imshow(activation[0,:,:, featuremap], interpolation=\"nearest\", cmap=\"gray\")"
   ]
  },
  {
   "cell_type": "markdown",
   "metadata": {},
   "source": [
    "### Question 9\n",
    "\n",
    "Discuss how you used the visual output of your trained network's feature maps to show that it had learned to look for interesting characteristics in traffic sign images\n"
   ]
  },
  {
   "cell_type": "markdown",
   "metadata": {},
   "source": [
    "**Answer:**"
   ]
  },
  {
   "cell_type": "markdown",
   "metadata": {},
   "source": [
    "> **Note**: Once you have completed all of the code implementations and successfully answered each question above, you may finalize your work by exporting the iPython Notebook as an HTML document. You can do this by using the menu above and navigating to  \\n\",\n",
    "    \"**File -> Download as -> HTML (.html)**. Include the finished document along with this notebook as your submission."
   ]
  },
  {
   "cell_type": "markdown",
   "metadata": {},
   "source": [
    "### Project Writeup\n",
    "\n",
    "Once you have completed the code implementation, document your results in a project writeup using this [template](https://github.com/udacity/CarND-Traffic-Sign-Classifier-Project/blob/master/writeup_template.md) as a guide. The writeup can be in a markdown or pdf file. "
   ]
  }
 ],
 "metadata": {
  "anaconda-cloud": {},
  "kernelspec": {
   "display_name": "Python [conda env:carnd-term1]",
   "language": "python",
   "name": "conda-env-carnd-term1-py"
  },
  "language_info": {
   "codemirror_mode": {
    "name": "ipython",
    "version": 3
   },
   "file_extension": ".py",
   "mimetype": "text/x-python",
   "name": "python",
   "nbconvert_exporter": "python",
   "pygments_lexer": "ipython3",
   "version": "3.5.2"
  }
 },
 "nbformat": 4,
 "nbformat_minor": 1
}
